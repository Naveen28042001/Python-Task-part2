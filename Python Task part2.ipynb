{
 "cells": [
  {
   "cell_type": "code",
   "execution_count": null,
   "id": "fe56fdae-fe39-47ca-9f36-a46a28c532eb",
   "metadata": {},
   "outputs": [],
   "source": [
    "Q1. You are writing code for a company. The requirement of the company is that you create a python\n",
    "function that will check whether the password entered by the user is correct or not. The function should\n",
    "take the password as input and return the string “Valid Password” if the entered password follows the\n",
    "below-given password guidelines else it should return “Invalid Password”.\n",
    "Note: 1. The Password should contain at least two uppercase letters and at least two lowercase letters.\n",
    "2. The Password should contain at least a number and three special characters.\n",
    "3. The length of the password should be 10 characters long."
   ]
  },
  {
   "cell_type": "code",
   "execution_count": 6,
   "id": "2e71f10c-57cd-45de-826a-127be66bf583",
   "metadata": {},
   "outputs": [
    {
     "name": "stdin",
     "output_type": "stream",
     "text": [
      "Enter your password:  MM@@@asd11\n"
     ]
    },
    {
     "name": "stdout",
     "output_type": "stream",
     "text": [
      "Valid Password\n"
     ]
    }
   ],
   "source": [
    "import re\n",
    "\n",
    "def check_password(password):\n",
    "    # Rule 1: At least two uppercase letters and two lowercase letters\n",
    "    if not (sum(1 for char in password if char.isupper()) >= 2 and\n",
    "            sum(1 for char in password if char.islower()) >= 2):\n",
    "        return \"Invalid Password: Should have at least two uppercase and two lowercase letters.\"\n",
    "\n",
    "    # Rule 2: At least one number and three special characters\n",
    "    if not (any(char.isdigit() for char in password) and\n",
    "            sum(1 for char in password if not char.isalnum()) >= 3):\n",
    "        return \"Invalid Password: Should have at least one number and three special characters.\"\n",
    "\n",
    "    # Rule 3: Length should be 10 characters\n",
    "    if len(password) != 10:\n",
    "        return \"Invalid Password: Length should be 10 characters.\"\n",
    "\n",
    "    # If all rules are satisfied\n",
    "    return \"Valid Password\"\n",
    "\n",
    "# Example usage:\n",
    "user_password = input(\"Enter your password: \")\n",
    "result = check_password(user_password)\n",
    "print(result)"
   ]
  },
  {
   "cell_type": "code",
   "execution_count": null,
   "id": "7a561a2a-abde-4ba1-a735-5f4d8b7dd88b",
   "metadata": {},
   "outputs": [],
   "source": [
    "Q2. Solve the below-given questions using at least one of the following:\n",
    "1. Lambda functioJ\n",
    "2. Filter functioJ\n",
    "3. Zap functioJ\n",
    "4. List ComprehensioI\n",
    "Check if the string starts with a particular letterY\n",
    "Check if the string is numericY\n",
    "Sort a list of tuples having fruit names and their quantity. [(\"mango\",99),(\"orange\",80), (\"grapes\", 1000)-\n",
    "Find the squares of numbers from 1 to 10Y\n",
    "Find the cube root of numbers from 1 to 10Y\n",
    "Check if a given number is evenY\n",
    "Filter odd numbers from the given list.\n",
    "[1,2,3,4,5,6,7,8,9,10]\n",
    "Sort a list of integers into positive and negative integers lists.\n",
    "[1,2,3,4,5,6,-1,-2,-3,-4,-5,0]"
   ]
  },
  {
   "cell_type": "code",
   "execution_count": 8,
   "id": "a4855e74-7f20-49fb-aea6-7a100d38daea",
   "metadata": {},
   "outputs": [
    {
     "name": "stdout",
     "output_type": "stream",
     "text": [
      "True\n"
     ]
    }
   ],
   "source": [
    "##Check if the string starts with a particular letter:\n",
    "check_starting_letter = lambda string, letter: string.startswith(letter)\n",
    "\n",
    "# Example\n",
    "result = check_starting_letter(\"apple\", \"a\")\n",
    "print(result) "
   ]
  },
  {
   "cell_type": "code",
   "execution_count": 9,
   "id": "bfd7df93-3476-4c0e-bf76-9930936c2cb6",
   "metadata": {},
   "outputs": [
    {
     "name": "stdout",
     "output_type": "stream",
     "text": [
      "True\n"
     ]
    }
   ],
   "source": [
    "##Check if the string is numeric:\n",
    "check_numeric = lambda string: string.isnumeric()\n",
    "\n",
    "# Example\n",
    "result = check_numeric(\"123\")\n",
    "print(result)  "
   ]
  },
  {
   "cell_type": "code",
   "execution_count": 10,
   "id": "576178f3-e35f-4067-96e6-e15288d23c04",
   "metadata": {},
   "outputs": [
    {
     "name": "stdout",
     "output_type": "stream",
     "text": [
      "[('orange', 80), ('mango', 99), ('grapes', 1000)]\n"
     ]
    }
   ],
   "source": [
    "##Sort a list of tuples having fruit names and their quantity:\n",
    "fruits = [(\"mango\", 99), (\"orange\", 80), (\"grapes\", 1000)]\n",
    "sorted_fruits = sorted(fruits, key=lambda x: x[1])\n",
    "\n",
    "# Example\n",
    "print(sorted_fruits)"
   ]
  },
  {
   "cell_type": "code",
   "execution_count": 11,
   "id": "1fbc39fa-a066-4bbb-8347-bb597cd34f25",
   "metadata": {},
   "outputs": [
    {
     "name": "stdout",
     "output_type": "stream",
     "text": [
      "[1, 4, 9, 16, 25, 36, 49, 64, 81, 100]\n"
     ]
    }
   ],
   "source": [
    "## Find the squares of numbers from 1 to 10:\n",
    "squares = [x**2 for x in range(1, 11)]\n",
    "\n",
    "# Example\n",
    "print(squares)"
   ]
  },
  {
   "cell_type": "code",
   "execution_count": 12,
   "id": "54388f6e-9225-40c5-97ec-510173245d60",
   "metadata": {},
   "outputs": [
    {
     "name": "stdout",
     "output_type": "stream",
     "text": [
      "[1.0, 1.2599210498948732, 1.4422495703074083, 1.5874010519681994, 1.7099759466766968, 1.8171205928321397, 1.912931182772389, 2.0, 2.080083823051904, 2.154434690031884]\n"
     ]
    }
   ],
   "source": [
    "##Find the cube root of numbers from 1 to 10:\n",
    "import math\n",
    "\n",
    "cube_roots = [math.pow(x, 1/3) for x in range(1, 11)]\n",
    "\n",
    "# Example\n",
    "print(cube_roots)"
   ]
  },
  {
   "cell_type": "code",
   "execution_count": 13,
   "id": "d524a8bd-591a-473b-8482-449d3b2d6f09",
   "metadata": {},
   "outputs": [
    {
     "name": "stdout",
     "output_type": "stream",
     "text": [
      "True\n"
     ]
    }
   ],
   "source": [
    "##Check if a given number is even:\n",
    "check_even = lambda num: num % 2 == 0\n",
    "\n",
    "# Example\n",
    "result = check_even(6)\n",
    "print(result)  "
   ]
  },
  {
   "cell_type": "code",
   "execution_count": 14,
   "id": "be995932-082d-48a7-89e1-2e3b011c96d4",
   "metadata": {},
   "outputs": [
    {
     "name": "stdout",
     "output_type": "stream",
     "text": [
      "[1, 3, 5, 7, 9]\n"
     ]
    }
   ],
   "source": [
    "##Filter odd numbers from the given list:\n",
    "numbers = [1, 2, 3, 4, 5, 6, 7, 8, 9, 10]\n",
    "odd_numbers = list(filter(lambda x: x % 2 != 0, numbers))\n",
    "\n",
    "# Example\n",
    "print(odd_numbers)"
   ]
  },
  {
   "cell_type": "code",
   "execution_count": 15,
   "id": "68e1067b-cb1c-46c5-b499-0f876e2efc58",
   "metadata": {},
   "outputs": [
    {
     "name": "stdout",
     "output_type": "stream",
     "text": [
      "Positive Integers: [1, 2, 3, 4, 5, 6]\n",
      "Negative Integers: [-1, -2, -3, -4, -5]\n"
     ]
    }
   ],
   "source": [
    "##Sort a list of integers into positive and negative integers lists:\n",
    "integers = [1, 2, 3, 4, 5, 6, -1, -2, -3, -4, -5, 0]\n",
    "positive_integers = list(filter(lambda x: x > 0, integers))\n",
    "negative_integers = list(filter(lambda x: x < 0, integers))\n",
    "\n",
    "# Example\n",
    "print(\"Positive Integers:\", positive_integers)\n",
    "print(\"Negative Integers:\", negative_integers)"
   ]
  },
  {
   "cell_type": "code",
   "execution_count": null,
   "id": "e9a12401-8a54-46d7-aabf-1cf174bee767",
   "metadata": {},
   "outputs": [],
   "source": []
  }
 ],
 "metadata": {
  "kernelspec": {
   "display_name": "Python 3 (ipykernel)",
   "language": "python",
   "name": "python3"
  },
  "language_info": {
   "codemirror_mode": {
    "name": "ipython",
    "version": 3
   },
   "file_extension": ".py",
   "mimetype": "text/x-python",
   "name": "python",
   "nbconvert_exporter": "python",
   "pygments_lexer": "ipython3",
   "version": "3.10.8"
  }
 },
 "nbformat": 4,
 "nbformat_minor": 5
}
